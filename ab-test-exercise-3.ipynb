{
 "cells": [
  {
   "cell_type": "markdown",
   "id": "125bf1e2",
   "metadata": {
    "papermill": {
     "duration": 0.008416,
     "end_time": "2023-06-20T13:32:46.301854",
     "exception": false,
     "start_time": "2023-06-20T13:32:46.293438",
     "status": "completed"
    },
    "tags": []
   },
   "source": [
    "![AB Testing](https://www.weidert.com/hs-fs/hubfs/blog_images/AB%20Testing%20best%20practices.jpeg?width=1800&height=945&name=AB%20Testing%20best%20practices.jpeg)"
   ]
  },
  {
   "cell_type": "markdown",
   "id": "79ba8e31",
   "metadata": {
    "papermill": {
     "duration": 0.00759,
     "end_time": "2023-06-20T13:32:46.317819",
     "exception": false,
     "start_time": "2023-06-20T13:32:46.310229",
     "status": "completed"
    },
    "tags": []
   },
   "source": [
    "# WHAT IS THE AB TESTING ?\n",
    "\n",
    "A/B testing, also known as split testing, is a method of comparing two variants(A and B) to determine which one performs better. In A/B testing, two variants (A and B) are created with one element of the design or content being different between the two variants. The two versions are then shown randomly to users, and their behavior is monitored and compared to determine which variant performs better based on a predefined goal, such as the conversion rate, click-through rate, or engagement rate.\n",
    "\n",
    "A/B testing is commonly used in website optimization, digital marketing, and product development to determine which variant is more effective at achieving a specific goal. It helps businesses make data-driven decisions by providing insight into what resonates better with their audience and what changes can be made to improve the user experience and increase conversions."
   ]
  },
  {
   "cell_type": "markdown",
   "id": "9050e245",
   "metadata": {
    "papermill": {
     "duration": 0.007461,
     "end_time": "2023-06-20T13:32:46.333122",
     "exception": false,
     "start_time": "2023-06-20T13:32:46.325661",
     "status": "completed"
    },
    "tags": []
   },
   "source": [
    "# Hypothesis Testing\n",
    "\n",
    "Hypothesis tests are analytical tools used as a statistical method. These tests aim to test a hypothesis (claim) about a population using sample data. Hypothesis tests help us make inferences about whether a hypothesis is true or not by collecting statistical evidence.\n",
    "\n",
    "Generally, two hypotheses are formulated: the null hypothesis (H0) and the alternative hypothesis (H1 or HA). The null hypothesis represents the existing condition or the accepted assumptions, while the alternative hypothesis claims a specific change or effect.\n",
    "\n",
    "Hypothesis tests can be categorized into the following types:\n",
    "\n",
    "- **One-Sample T Test:** Used to test if the mean of a population is significantly different from a specific value.\n",
    "\n",
    "- **Independent Two-Sample T Test:** Used to test if there is a significant difference between the means of two independent groups.\n",
    "\n",
    "- **Paired Two-Sample T Test:** Used to test if there is a significant difference between the means of two related or paired groups.\n",
    "\n",
    "- **Analysis of Variance (ANOVA):** Used to test if there is a significant difference among the means of three or more groups.\n",
    "\n",
    "- **Chi-Square Test:** Used to test if there is a dependency or association between two categorical variables.\n",
    "\n",
    "- **Regression Analysis:** Used to analyze the relationship between dependent and independent variables.\n",
    "\n",
    "These are just some popular types of hypothesis tests, and there are many more methods available in statistics. Hypothesis tests are used in various fields, ranging from scientific research and marketing strategies to medical studies and industrial quality control processes. These tests enable us to make objective decisions based on data and evaluate statistical significance.\n",
    "\n",
    "- Hypothesis tests are statistical methods used to test a belief or proposition.\n",
    "\n",
    "- Within the scope of hypothesis testing, there are group comparisons.\n",
    "\n",
    "- The main objective in group comparisons is to determine whether observed differences are due to chance or if there is a genuine difference.\n",
    "\n",
    "**For example:**\n",
    "\n",
    "- Did the average daily usage time of users increase after a user interface change in a mobile application?\n",
    "\n",
    "- The result we obtain from this analysis, based on the sample we have, will help us determine if the observed outcome occurred by chance or if there is indeed a significant difference.\n",
    "\n",
    "- We will strive to understand this through statistical calculations and analysis. We will provide evidence to support our findings."
   ]
  },
  {
   "cell_type": "markdown",
   "id": "10522f70",
   "metadata": {
    "papermill": {
     "duration": 0.007357,
     "end_time": "2023-06-20T13:32:46.348315",
     "exception": false,
     "start_time": "2023-06-20T13:32:46.340958",
     "status": "completed"
    },
    "tags": []
   },
   "source": [
    "# A/B Testing (Independent Two-Sample T Test) (Comparing Two Group Means)"
   ]
  },
  {
   "cell_type": "markdown",
   "id": "55c0b97a",
   "metadata": {
    "papermill": {
     "duration": 0.009162,
     "end_time": "2023-06-20T13:32:46.365313",
     "exception": false,
     "start_time": "2023-06-20T13:32:46.356151",
     "status": "completed"
    },
    "tags": []
   },
   "source": [
    "# Road Map\n",
    "1. Set up Hypotheses\n",
    "2. Assumption Check\n",
    "    - 2.1. Assumption of Normality\n",
    "    - 2.2. Variance Homogeneity\n",
    "3. Implementation of the Hypothesis\n",
    "    - 3.1. If the assumptions are met, independent two sample t test (parametric test)\n",
    "    - 3.2.If assumptions are not met, mannwhitneyu test (non-parametric test)\n",
    "4. Interpret results according to p-value"
   ]
  },
  {
   "cell_type": "code",
   "execution_count": 1,
   "id": "692d5eef",
   "metadata": {
    "execution": {
     "iopub.execute_input": "2023-06-20T13:32:46.383688Z",
     "iopub.status.busy": "2023-06-20T13:32:46.382729Z",
     "iopub.status.idle": "2023-06-20T13:32:48.392317Z",
     "shell.execute_reply": "2023-06-20T13:32:48.391019Z"
    },
    "papermill": {
     "duration": 2.022199,
     "end_time": "2023-06-20T13:32:48.395267",
     "exception": false,
     "start_time": "2023-06-20T13:32:46.373068",
     "status": "completed"
    },
    "tags": []
   },
   "outputs": [],
   "source": [
    "# import Required Libraries\n",
    "\n",
    "import itertools\n",
    "import numpy as np\n",
    "import pandas as pd\n",
    "import matplotlib.pyplot as plt\n",
    "import seaborn as sns\n",
    "import statsmodels.stats.api as sms\n",
    "from scipy.stats import ttest_1samp, shapiro, levene, ttest_ind, mannwhitneyu,pearsonr, spearmanr, kendalltau, f_oneway, kruskal\n",
    "from statsmodels.stats.proportion import proportions_ztest"
   ]
  },
  {
   "cell_type": "code",
   "execution_count": 2,
   "id": "5fbb9297",
   "metadata": {
    "execution": {
     "iopub.execute_input": "2023-06-20T13:32:48.414069Z",
     "iopub.status.busy": "2023-06-20T13:32:48.413606Z",
     "iopub.status.idle": "2023-06-20T13:32:48.419673Z",
     "shell.execute_reply": "2023-06-20T13:32:48.418222Z"
    },
    "papermill": {
     "duration": 0.019474,
     "end_time": "2023-06-20T13:32:48.423184",
     "exception": false,
     "start_time": "2023-06-20T13:32:48.403710",
     "status": "completed"
    },
    "tags": []
   },
   "outputs": [],
   "source": [
    "# Adjusting Row Column Settings\n",
    "\n",
    "pd.set_option('display.max_columns', None)\n",
    "pd.set_option('display.max_rows', 10)\n",
    "pd.set_option('display.float_format', lambda x: '%.5f' % x)"
   ]
  },
  {
   "cell_type": "markdown",
   "id": "0548c516",
   "metadata": {
    "papermill": {
     "duration": 0.008489,
     "end_time": "2023-06-20T13:32:48.440312",
     "exception": false,
     "start_time": "2023-06-20T13:32:48.431823",
     "status": "completed"
    },
    "tags": []
   },
   "source": [
    "# Exercise 3: Is There a Statistically Significant Difference Between the Mean Age of People with and Without Diabetes?"
   ]
  },
  {
   "cell_type": "code",
   "execution_count": 3,
   "id": "41c434b0",
   "metadata": {
    "execution": {
     "iopub.execute_input": "2023-06-20T13:32:48.459087Z",
     "iopub.status.busy": "2023-06-20T13:32:48.458643Z",
     "iopub.status.idle": "2023-06-20T13:32:48.488447Z",
     "shell.execute_reply": "2023-06-20T13:32:48.487176Z"
    },
    "papermill": {
     "duration": 0.043384,
     "end_time": "2023-06-20T13:32:48.491739",
     "exception": false,
     "start_time": "2023-06-20T13:32:48.448355",
     "status": "completed"
    },
    "tags": []
   },
   "outputs": [],
   "source": [
    "# Loading the Data Set\n",
    "\n",
    "df = pd.read_csv(\"/kaggle/input/docspot/datasets_228_482_diabetes.csv\")"
   ]
  },
  {
   "cell_type": "code",
   "execution_count": 4,
   "id": "516ab571",
   "metadata": {
    "execution": {
     "iopub.execute_input": "2023-06-20T13:32:48.510158Z",
     "iopub.status.busy": "2023-06-20T13:32:48.509680Z",
     "iopub.status.idle": "2023-06-20T13:32:48.575744Z",
     "shell.execute_reply": "2023-06-20T13:32:48.574346Z"
    },
    "papermill": {
     "duration": 0.078421,
     "end_time": "2023-06-20T13:32:48.578523",
     "exception": false,
     "start_time": "2023-06-20T13:32:48.500102",
     "status": "completed"
    },
    "tags": []
   },
   "outputs": [
    {
     "name": "stdout",
     "output_type": "stream",
     "text": [
      "##################### Shape #####################\n",
      "(768, 9)\n",
      "##################### Types #####################\n",
      "Pregnancies                   int64\n",
      "Glucose                       int64\n",
      "BloodPressure                 int64\n",
      "SkinThickness                 int64\n",
      "Insulin                       int64\n",
      "BMI                         float64\n",
      "DiabetesPedigreeFunction    float64\n",
      "Age                           int64\n",
      "Outcome                       int64\n",
      "dtype: object\n",
      "##################### Head #####################\n",
      "   Pregnancies  Glucose  BloodPressure  SkinThickness  Insulin      BMI  \\\n",
      "0            6      148             72             35        0 33.60000   \n",
      "1            1       85             66             29        0 26.60000   \n",
      "2            8      183             64              0        0 23.30000   \n",
      "3            1       89             66             23       94 28.10000   \n",
      "4            0      137             40             35      168 43.10000   \n",
      "\n",
      "   DiabetesPedigreeFunction  Age  Outcome  \n",
      "0                   0.62700   50        1  \n",
      "1                   0.35100   31        0  \n",
      "2                   0.67200   32        1  \n",
      "3                   0.16700   21        0  \n",
      "4                   2.28800   33        1  \n",
      "##################### Tail #####################\n",
      "     Pregnancies  Glucose  BloodPressure  SkinThickness  Insulin      BMI  \\\n",
      "763           10      101             76             48      180 32.90000   \n",
      "764            2      122             70             27        0 36.80000   \n",
      "765            5      121             72             23      112 26.20000   \n",
      "766            1      126             60              0        0 30.10000   \n",
      "767            1       93             70             31        0 30.40000   \n",
      "\n",
      "     DiabetesPedigreeFunction  Age  Outcome  \n",
      "763                   0.17100   63        0  \n",
      "764                   0.34000   27        0  \n",
      "765                   0.24500   30        0  \n",
      "766                   0.34900   47        1  \n",
      "767                   0.31500   23        0  \n",
      "##################### NA #####################\n",
      "Pregnancies                 0\n",
      "Glucose                     0\n",
      "BloodPressure               0\n",
      "SkinThickness               0\n",
      "Insulin                     0\n",
      "BMI                         0\n",
      "DiabetesPedigreeFunction    0\n",
      "Age                         0\n",
      "Outcome                     0\n",
      "dtype: int64\n",
      "##################### Quantiles #####################\n",
      "                             count      mean       std      min       0%  \\\n",
      "Pregnancies              768.00000   3.84505   3.36958  0.00000  0.00000   \n",
      "Glucose                  768.00000 120.89453  31.97262  0.00000  0.00000   \n",
      "BloodPressure            768.00000  69.10547  19.35581  0.00000  0.00000   \n",
      "SkinThickness            768.00000  20.53646  15.95222  0.00000  0.00000   \n",
      "Insulin                  768.00000  79.79948 115.24400  0.00000  0.00000   \n",
      "BMI                      768.00000  31.99258   7.88416  0.00000  0.00000   \n",
      "DiabetesPedigreeFunction 768.00000   0.47188   0.33133  0.07800  0.07800   \n",
      "Age                      768.00000  33.24089  11.76023 21.00000 21.00000   \n",
      "Outcome                  768.00000   0.34896   0.47695  0.00000  0.00000   \n",
      "\n",
      "                               5%       50%       95%       99%      100%  \\\n",
      "Pregnancies               0.00000   3.00000  10.00000  13.00000  17.00000   \n",
      "Glucose                  79.00000 117.00000 181.00000 196.00000 199.00000   \n",
      "BloodPressure            38.70000  72.00000  90.00000 106.00000 122.00000   \n",
      "SkinThickness             0.00000  23.00000  44.00000  51.33000  99.00000   \n",
      "Insulin                   0.00000  30.50000 293.00000 519.90000 846.00000   \n",
      "BMI                      21.80000  32.00000  44.39500  50.75900  67.10000   \n",
      "DiabetesPedigreeFunction  0.14035   0.37250   1.13285   1.69833   2.42000   \n",
      "Age                      21.00000  29.00000  58.00000  67.00000  81.00000   \n",
      "Outcome                   0.00000   0.00000   1.00000   1.00000   1.00000   \n",
      "\n",
      "                               max  \n",
      "Pregnancies               17.00000  \n",
      "Glucose                  199.00000  \n",
      "BloodPressure            122.00000  \n",
      "SkinThickness             99.00000  \n",
      "Insulin                  846.00000  \n",
      "BMI                       67.10000  \n",
      "DiabetesPedigreeFunction   2.42000  \n",
      "Age                       81.00000  \n",
      "Outcome                    1.00000  \n"
     ]
    }
   ],
   "source": [
    "# Preliminary examination of the data set\n",
    "\n",
    "def check_df(dataframe, head=5):\n",
    "    print('##################### Shape #####################')\n",
    "    print(dataframe.shape)\n",
    "    print('##################### Types #####################')\n",
    "    print(dataframe.dtypes)\n",
    "    print('##################### Head #####################')\n",
    "    print(dataframe.head(head))\n",
    "    print('##################### Tail #####################')\n",
    "    print(dataframe.tail(head))\n",
    "    print('##################### NA #####################')\n",
    "    print(dataframe.isnull().sum())\n",
    "    print('##################### Quantiles #####################')\n",
    "    print(dataframe.describe([0, 0.05, 0.50, 0.95, 0.99, 1]).T)\n",
    "\n",
    "check_df(df)"
   ]
  },
  {
   "cell_type": "code",
   "execution_count": 5,
   "id": "4a95de3c",
   "metadata": {
    "execution": {
     "iopub.execute_input": "2023-06-20T13:32:48.596921Z",
     "iopub.status.busy": "2023-06-20T13:32:48.596522Z",
     "iopub.status.idle": "2023-06-20T13:32:48.625660Z",
     "shell.execute_reply": "2023-06-20T13:32:48.624462Z"
    },
    "papermill": {
     "duration": 0.041179,
     "end_time": "2023-06-20T13:32:48.627871",
     "exception": false,
     "start_time": "2023-06-20T13:32:48.586692",
     "status": "completed"
    },
    "tags": []
   },
   "outputs": [
    {
     "data": {
      "text/html": [
       "<div>\n",
       "<style scoped>\n",
       "    .dataframe tbody tr th:only-of-type {\n",
       "        vertical-align: middle;\n",
       "    }\n",
       "\n",
       "    .dataframe tbody tr th {\n",
       "        vertical-align: top;\n",
       "    }\n",
       "\n",
       "    .dataframe thead th {\n",
       "        text-align: right;\n",
       "    }\n",
       "</style>\n",
       "<table border=\"1\" class=\"dataframe\">\n",
       "  <thead>\n",
       "    <tr style=\"text-align: right;\">\n",
       "      <th></th>\n",
       "      <th>Age</th>\n",
       "    </tr>\n",
       "    <tr>\n",
       "      <th>Outcome</th>\n",
       "      <th></th>\n",
       "    </tr>\n",
       "  </thead>\n",
       "  <tbody>\n",
       "    <tr>\n",
       "      <th>0</th>\n",
       "      <td>31.19000</td>\n",
       "    </tr>\n",
       "    <tr>\n",
       "      <th>1</th>\n",
       "      <td>37.06716</td>\n",
       "    </tr>\n",
       "  </tbody>\n",
       "</table>\n",
       "</div>"
      ],
      "text/plain": [
       "             Age\n",
       "Outcome         \n",
       "0       31.19000\n",
       "1       37.06716"
      ]
     },
     "execution_count": 5,
     "metadata": {},
     "output_type": "execute_result"
    }
   ],
   "source": [
    "df.groupby(\"Outcome\").agg({\"Age\": \"mean\"})"
   ]
  },
  {
   "cell_type": "code",
   "execution_count": 6,
   "id": "e5823258",
   "metadata": {
    "execution": {
     "iopub.execute_input": "2023-06-20T13:32:48.646774Z",
     "iopub.status.busy": "2023-06-20T13:32:48.646348Z",
     "iopub.status.idle": "2023-06-20T13:32:48.651564Z",
     "shell.execute_reply": "2023-06-20T13:32:48.650392Z"
    },
    "papermill": {
     "duration": 0.017737,
     "end_time": "2023-06-20T13:32:48.654184",
     "exception": false,
     "start_time": "2023-06-20T13:32:48.636447",
     "status": "completed"
    },
    "tags": []
   },
   "outputs": [],
   "source": [
    "# There seems to be a mathematical difference between the two groups. But is this difference a chance occurrence or is it statistically significant?"
   ]
  },
  {
   "cell_type": "markdown",
   "id": "bb6f637a",
   "metadata": {
    "papermill": {
     "duration": 0.008074,
     "end_time": "2023-06-20T13:32:48.670585",
     "exception": false,
     "start_time": "2023-06-20T13:32:48.662511",
     "status": "completed"
    },
    "tags": []
   },
   "source": [
    "# 1. Establish the hypotheses:\n",
    "\n",
    "- **H0: M1 = M2** (There is no statistically significant difference between the mean ages of those with and without diabetes)\n",
    "- **H1: M1! = M2** (There is a statistically significant difference between the mean ages of those with and without diabetes)"
   ]
  },
  {
   "cell_type": "markdown",
   "id": "9c0b0859",
   "metadata": {
    "papermill": {
     "duration": 0.007884,
     "end_time": "2023-06-20T13:32:48.687127",
     "exception": false,
     "start_time": "2023-06-20T13:32:48.679243",
     "status": "completed"
    },
    "tags": []
   },
   "source": [
    "# 2. Examine Assumptions"
   ]
  },
  {
   "cell_type": "markdown",
   "id": "184911ce",
   "metadata": {
    "papermill": {
     "duration": 0.007942,
     "end_time": "2023-06-20T13:32:48.703291",
     "exception": false,
     "start_time": "2023-06-20T13:32:48.695349",
     "status": "completed"
    },
    "tags": []
   },
   "source": [
    "**Assumption of normality**\n",
    "\n",
    "- H0: The assumption of normal distribution is satisfied.\n",
    "- H1: Assumption of normal distribution is not satisfied"
   ]
  },
  {
   "cell_type": "code",
   "execution_count": 7,
   "id": "b7c9dc50",
   "metadata": {
    "execution": {
     "iopub.execute_input": "2023-06-20T13:32:48.721987Z",
     "iopub.status.busy": "2023-06-20T13:32:48.721552Z",
     "iopub.status.idle": "2023-06-20T13:32:48.726341Z",
     "shell.execute_reply": "2023-06-20T13:32:48.725099Z"
    },
    "papermill": {
     "duration": 0.016834,
     "end_time": "2023-06-20T13:32:48.728636",
     "exception": false,
     "start_time": "2023-06-20T13:32:48.711802",
     "status": "completed"
    },
    "tags": []
   },
   "outputs": [],
   "source": [
    "# H0 REJ if p-value < 0.05.\n",
    "# H0 CANNOT BE REJECTED if p-value < 0.05."
   ]
  },
  {
   "cell_type": "code",
   "execution_count": 8,
   "id": "ab2edc99",
   "metadata": {
    "execution": {
     "iopub.execute_input": "2023-06-20T13:32:48.747569Z",
     "iopub.status.busy": "2023-06-20T13:32:48.746615Z",
     "iopub.status.idle": "2023-06-20T13:32:48.753458Z",
     "shell.execute_reply": "2023-06-20T13:32:48.752472Z"
    },
    "papermill": {
     "duration": 0.018698,
     "end_time": "2023-06-20T13:32:48.755701",
     "exception": false,
     "start_time": "2023-06-20T13:32:48.737003",
     "status": "completed"
    },
    "tags": []
   },
   "outputs": [],
   "source": [
    "test_stat, pvalue = shapiro(df.loc[df[\"Outcome\"] == 1, \"Age\"].dropna())"
   ]
  },
  {
   "cell_type": "code",
   "execution_count": 9,
   "id": "a6c90729",
   "metadata": {
    "execution": {
     "iopub.execute_input": "2023-06-20T13:32:48.774185Z",
     "iopub.status.busy": "2023-06-20T13:32:48.773733Z",
     "iopub.status.idle": "2023-06-20T13:32:48.779796Z",
     "shell.execute_reply": "2023-06-20T13:32:48.778622Z"
    },
    "papermill": {
     "duration": 0.018461,
     "end_time": "2023-06-20T13:32:48.782342",
     "exception": false,
     "start_time": "2023-06-20T13:32:48.763881",
     "status": "completed"
    },
    "tags": []
   },
   "outputs": [
    {
     "name": "stdout",
     "output_type": "stream",
     "text": [
      "Test Stat = 0.9546, p-value = 0.0000\n"
     ]
    }
   ],
   "source": [
    "print('Test Stat = %.4f, p-value = %.4f' % (test_stat, pvalue))"
   ]
  },
  {
   "cell_type": "code",
   "execution_count": 10,
   "id": "847096cb",
   "metadata": {
    "execution": {
     "iopub.execute_input": "2023-06-20T13:32:48.801640Z",
     "iopub.status.busy": "2023-06-20T13:32:48.800744Z",
     "iopub.status.idle": "2023-06-20T13:32:48.807419Z",
     "shell.execute_reply": "2023-06-20T13:32:48.806307Z"
    },
    "papermill": {
     "duration": 0.018541,
     "end_time": "2023-06-20T13:32:48.809714",
     "exception": false,
     "start_time": "2023-06-20T13:32:48.791173",
     "status": "completed"
    },
    "tags": []
   },
   "outputs": [],
   "source": [
    "test_stat, pvalue = shapiro(df.loc[df[\"Outcome\"] == 0, \"Age\"].dropna())"
   ]
  },
  {
   "cell_type": "code",
   "execution_count": 11,
   "id": "3b5feda3",
   "metadata": {
    "execution": {
     "iopub.execute_input": "2023-06-20T13:32:48.828190Z",
     "iopub.status.busy": "2023-06-20T13:32:48.827777Z",
     "iopub.status.idle": "2023-06-20T13:32:48.833564Z",
     "shell.execute_reply": "2023-06-20T13:32:48.832308Z"
    },
    "papermill": {
     "duration": 0.018364,
     "end_time": "2023-06-20T13:32:48.836486",
     "exception": false,
     "start_time": "2023-06-20T13:32:48.818122",
     "status": "completed"
    },
    "tags": []
   },
   "outputs": [
    {
     "name": "stdout",
     "output_type": "stream",
     "text": [
      "Test Stat = 0.8012, p-value = 0.0000\n"
     ]
    }
   ],
   "source": [
    "print('Test Stat = %.4f, p-value = %.4f' % (test_stat, pvalue))"
   ]
  },
  {
   "cell_type": "code",
   "execution_count": 12,
   "id": "a554c2e0",
   "metadata": {
    "execution": {
     "iopub.execute_input": "2023-06-20T13:32:48.855312Z",
     "iopub.status.busy": "2023-06-20T13:32:48.854830Z",
     "iopub.status.idle": "2023-06-20T13:32:48.860004Z",
     "shell.execute_reply": "2023-06-20T13:32:48.858904Z"
    },
    "papermill": {
     "duration": 0.017342,
     "end_time": "2023-06-20T13:32:48.862514",
     "exception": false,
     "start_time": "2023-06-20T13:32:48.845172",
     "status": "completed"
    },
    "tags": []
   },
   "outputs": [],
   "source": [
    "# Since the p-value is less than 0.05, hypothesis H0 is rejected.\n",
    "# The assumption of normality is not met."
   ]
  },
  {
   "cell_type": "markdown",
   "id": "65b00e33",
   "metadata": {
    "papermill": {
     "duration": 0.008029,
     "end_time": "2023-06-20T13:32:48.879346",
     "exception": false,
     "start_time": "2023-06-20T13:32:48.871317",
     "status": "completed"
    },
    "tags": []
   },
   "source": [
    "- **Non-parametric test is applied because normality assumption is not satisfied. mannwhitneyu test is applied.**\n",
    "- **Since the assumption of normality is not satisfied, we do not need to perform the homogeneity of variance test.**"
   ]
  },
  {
   "cell_type": "code",
   "execution_count": 13,
   "id": "8ed7add2",
   "metadata": {
    "execution": {
     "iopub.execute_input": "2023-06-20T13:32:48.898147Z",
     "iopub.status.busy": "2023-06-20T13:32:48.897504Z",
     "iopub.status.idle": "2023-06-20T13:32:48.902615Z",
     "shell.execute_reply": "2023-06-20T13:32:48.901441Z"
    },
    "papermill": {
     "duration": 0.017387,
     "end_time": "2023-06-20T13:32:48.905087",
     "exception": false,
     "start_time": "2023-06-20T13:32:48.887700",
     "status": "completed"
    },
    "tags": []
   },
   "outputs": [],
   "source": [
    "# Hipotez (H0: M1 = M2)"
   ]
  },
  {
   "cell_type": "code",
   "execution_count": 14,
   "id": "d11ec78e",
   "metadata": {
    "execution": {
     "iopub.execute_input": "2023-06-20T13:32:48.923707Z",
     "iopub.status.busy": "2023-06-20T13:32:48.923324Z",
     "iopub.status.idle": "2023-06-20T13:32:48.937209Z",
     "shell.execute_reply": "2023-06-20T13:32:48.935988Z"
    },
    "papermill": {
     "duration": 0.026416,
     "end_time": "2023-06-20T13:32:48.939967",
     "exception": false,
     "start_time": "2023-06-20T13:32:48.913551",
     "status": "completed"
    },
    "tags": []
   },
   "outputs": [],
   "source": [
    "test_stat, pvalue = mannwhitneyu(df.loc[df[\"Outcome\"] == 1, \"Age\"].dropna(),\n",
    "                                 df.loc[df[\"Outcome\"] == 0, \"Age\"].dropna())"
   ]
  },
  {
   "cell_type": "code",
   "execution_count": 15,
   "id": "226e7151",
   "metadata": {
    "execution": {
     "iopub.execute_input": "2023-06-20T13:32:48.959005Z",
     "iopub.status.busy": "2023-06-20T13:32:48.958614Z",
     "iopub.status.idle": "2023-06-20T13:32:48.963948Z",
     "shell.execute_reply": "2023-06-20T13:32:48.962911Z"
    },
    "papermill": {
     "duration": 0.018101,
     "end_time": "2023-06-20T13:32:48.966549",
     "exception": false,
     "start_time": "2023-06-20T13:32:48.948448",
     "status": "completed"
    },
    "tags": []
   },
   "outputs": [
    {
     "name": "stdout",
     "output_type": "stream",
     "text": [
      "Test Stat = 92050.0000, p-value = 0.0000\n"
     ]
    }
   ],
   "source": [
    "print('Test Stat = %.4f, p-value = %.4f' % (test_stat, pvalue))"
   ]
  },
  {
   "cell_type": "code",
   "execution_count": 16,
   "id": "0814c7e5",
   "metadata": {
    "execution": {
     "iopub.execute_input": "2023-06-20T13:32:48.986336Z",
     "iopub.status.busy": "2023-06-20T13:32:48.985966Z",
     "iopub.status.idle": "2023-06-20T13:32:48.990415Z",
     "shell.execute_reply": "2023-06-20T13:32:48.989282Z"
    },
    "papermill": {
     "duration": 0.017511,
     "end_time": "2023-06-20T13:32:48.992738",
     "exception": false,
     "start_time": "2023-06-20T13:32:48.975227",
     "status": "completed"
    },
    "tags": []
   },
   "outputs": [],
   "source": [
    "# H0 hypothesis is rejected.\n",
    "# The hypothesis that there is no statistically significant difference between the mean ages of people with and without diabetes is rejected.\n",
    "# There is a statistically significant difference between the mean ages of those with and without diabetes.\n",
    "\n",
    "# In other words, those with higher age have diabetes.\n"
   ]
  }
 ],
 "metadata": {
  "kernelspec": {
   "display_name": "Python 3",
   "language": "python",
   "name": "python3"
  },
  "language_info": {
   "codemirror_mode": {
    "name": "ipython",
    "version": 3
   },
   "file_extension": ".py",
   "mimetype": "text/x-python",
   "name": "python",
   "nbconvert_exporter": "python",
   "pygments_lexer": "ipython3",
   "version": "3.10.10"
  },
  "papermill": {
   "default_parameters": {},
   "duration": 16.552248,
   "end_time": "2023-06-20T13:32:50.024635",
   "environment_variables": {},
   "exception": null,
   "input_path": "__notebook__.ipynb",
   "output_path": "__notebook__.ipynb",
   "parameters": {},
   "start_time": "2023-06-20T13:32:33.472387",
   "version": "2.4.0"
  }
 },
 "nbformat": 4,
 "nbformat_minor": 5
}
